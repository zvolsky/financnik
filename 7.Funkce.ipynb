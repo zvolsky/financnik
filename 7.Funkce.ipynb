{
 "cells": [
  {
   "cell_type": "markdown",
   "metadata": {
    "deletable": true,
    "editable": true
   },
   "source": [
    "## Funkce\n",
    "* u tříd: metody - není to přesně to samé, ale pro jednoduchost ano"
   ]
  },
  {
   "cell_type": "markdown",
   "metadata": {
    "deletable": true,
    "editable": true
   },
   "source": [
    "#### Jak funkci definuji"
   ]
  },
  {
   "cell_type": "code",
   "execution_count": 1,
   "metadata": {
    "collapsed": true,
    "deletable": true,
    "editable": true
   },
   "outputs": [],
   "source": [
    "# def jmeno-funkce(param1, param2, ..):\n",
    "#     příkazy                    # vrácená hodnota bude: None\n",
    "\n",
    "# def jmeno-funkce(param1, param2, ..):\n",
    "#     příkazy\n",
    "#     return hodn1, hodn2, ..    # return může být i mezi příkazy např. místo break ; hodnoty se zabalí do tuple"
   ]
  },
  {
   "cell_type": "code",
   "execution_count": null,
   "metadata": {
    "collapsed": true,
    "deletable": true,
    "editable": true
   },
   "outputs": [],
   "source": [
    "# def jmeno-funkce(param1, param2, ..):\n",
    "#     \"\"\"\n",
    "#         Co funkce dělá (k čemu je určena)\n",
    "#\n",
    "#         Význam parametrů (jednotlivě parametry)\n",
    "#         Význam vrácených hodnot (jednotlivě vrácené hodnoty)\n",
    "#     \"\"\"\n",
    "#     příkazy"
   ]
  },
  {
   "cell_type": "markdown",
   "metadata": {
    "collapsed": false,
    "deletable": true,
    "editable": true
   },
   "source": [
    "#### Jak ji zavolám\n",
    "\n",
    "* argumenty se přiřadí do parametrů:\n",
    "  * param1 = argument1\n",
    "  * vnější proměnné (argumenty) se uvnitř funkce skryjí\n",
    "  * zpátky se do argumentů nic nevrátí, ale jsou-li mutable, mohla je funkce změnit (typicky: list.append())\n",
    "\n",
    "\n",
    "* pokud funkce vrací víc hodnot, může vysledek\n",
    "  * být 1 proměnná - bude to tuple\n",
    "  * více proměnných"
   ]
  },
  {
   "cell_type": "code",
   "execution_count": null,
   "metadata": {
    "collapsed": true,
    "deletable": true,
    "editable": true
   },
   "outputs": [],
   "source": [
    "# vysledek = jmeno-funkce(argument1, argument2, ..)"
   ]
  },
  {
   "cell_type": "code",
   "execution_count": 3,
   "metadata": {
    "collapsed": true,
    "deletable": true,
    "editable": true
   },
   "outputs": [],
   "source": [
    "# jmeno-funkce(argument1, argument2, ..)   # když mě výsledek nezajímá"
   ]
  },
  {
   "cell_type": "markdown",
   "metadata": {
    "deletable": true,
    "editable": true
   },
   "source": [
    "#### U definice: Non-default a default parametry\n",
    "#### Při volání: Poziční a pojmenované (keyword) argumenty\n",
    "* v obou případech **první (bez defaultu, poziční) musejí předcházet ty druhé (s defaultem, pojmenované)**\n",
    "* ty parametry, které **při volání pojmenuji, mohu zpřeházet**\n",
    "\n",
    "\n",
    "* počty poziční/pojmenované při definici a volání si **nemusejí odpovídat**\n",
    "  * ale **nedělám to** - především kvůli přehlednosti pojmenuji všechny default parametry"
   ]
  },
  {
   "cell_type": "code",
   "execution_count": null,
   "metadata": {
    "collapsed": false,
    "deletable": true,
    "editable": true
   },
   "outputs": [],
   "source": [
    "def vynasob(cinitel, cinitel2=2):\n",
    "    return cinitel * cinitel2\n",
    "\n",
    "vynasob(158)"
   ]
  },
  {
   "cell_type": "code",
   "execution_count": null,
   "metadata": {
    "collapsed": true,
    "deletable": true,
    "editable": true
   },
   "outputs": [],
   "source": [
    "vynasob(204, cinitel2=3)"
   ]
  },
  {
   "cell_type": "markdown",
   "metadata": {
    "collapsed": true,
    "deletable": true,
    "editable": true
   },
   "source": [
    "* do parametrů s defaultem nemusím nic předat: vezme se default\n",
    "* pozor na **mutable** - default se vytvoří už při definici funkce - proto **nepoužívat**; místo toho tato mantra:"
   ]
  },
  {
   "cell_type": "code",
   "execution_count": null,
   "metadata": {
    "collapsed": true,
    "deletable": true,
    "editable": true
   },
   "outputs": [],
   "source": [
    "# def funkce(..., seznam=None):\n",
    "#     if seznam is None:\n",
    "#         seznam = []"
   ]
  },
  {
   "cell_type": "markdown",
   "metadata": {
    "deletable": true,
    "editable": true
   },
   "source": [
    "Příklad: **co nepoužívat, co způsobí problémy**\n",
    "* nejprve si odzkoušej v notebooku příkladů, že funguje hledání slov: re.findall(..)\n",
    "* pak si zapiš celou funkci\n",
    "* vyzkoušej, jaké jsou s ní potíže\n",
    "* uprav parametr seznam správně"
   ]
  },
  {
   "cell_type": "code",
   "execution_count": null,
   "metadata": {
    "collapsed": false,
    "deletable": true,
    "editable": true
   },
   "outputs": [],
   "source": [
    "# nepoužívat !!!:\n",
    "import re  # regulární výrazy\n",
    "def pridej_posledni_2_slova_do_seznamu(text, seznam=[]):\n",
    "    slova = re.findall(r'\\w+', text)   # získám list (seznam) slov v textu\n",
    "    seznam.extend(slova[-2:])\n",
    "\n",
    "seznam = [\"kolik\", \"je\", \"hodin\"]\n",
    "pridej_posledni_2_slova_do_seznamu(\"Přišel moc pozdě\", seznam=seznam)\n",
    "seznam"
   ]
  },
  {
   "cell_type": "markdown",
   "metadata": {
    "deletable": true,
    "editable": true
   },
   "source": [
    "#### pack/unpack seznamu\n",
    "* seznam k rozbalení/zabalení se označí takto: **\\*list**\n",
    "* při volání je to méně časté,\n",
    "* ale u definice umožní mít libovolný počet parametrů"
   ]
  },
  {
   "cell_type": "code",
   "execution_count": null,
   "metadata": {
    "collapsed": true,
    "deletable": true,
    "editable": true
   },
   "outputs": [],
   "source": [
    "def vynasob_vse(*cinitele):\n",
    "    pass    # funkce zatím nedělá nic ; vytvoř a odzkoušej ji v příkladech"
   ]
  },
  {
   "cell_type": "markdown",
   "metadata": {
    "deletable": true,
    "editable": true
   },
   "source": [
    "#### pack/unpack slovníku\n",
    "* je to podobné, ale pro pojmenované (keyword) argumenty\n",
    "* slovník k rozbalení/zabalení se označí takto: **\\*\\*dict**\n",
    "* opět lze při volání (rozbalí slovník) i u definice (zabalí při volání víc parametrů do slovníku)"
   ]
  },
  {
   "cell_type": "code",
   "execution_count": null,
   "metadata": {
    "collapsed": true,
    "deletable": true,
    "editable": true
   },
   "outputs": [],
   "source": [
    "def funkce(povinny, **volitelne):\n",
    "    pass"
   ]
  },
  {
   "cell_type": "markdown",
   "metadata": {
    "deletable": true,
    "editable": true
   },
   "source": [
    "Lze to kombinovat, ale\n",
    "* vždy musím dodržet pořadí: non-default (nepojmenované) napřed, pak teprve pojmenované (s defaultem)\n",
    "* ... ale trochu moc složité"
   ]
  },
  {
   "cell_type": "code",
   "execution_count": null,
   "metadata": {
    "collapsed": true,
    "deletable": true,
    "editable": true
   },
   "outputs": [],
   "source": [
    "def funkce2(povinny, *dalsi_pozicni, defaultni=5, **dalsi_pojmenovane):\n",
    "    pass"
   ]
  },
  {
   "cell_type": "markdown",
   "metadata": {
    "deletable": true,
    "editable": true
   },
   "source": [
    "#### scope: rozsah viditelnosti proměnných\n",
    "* proměnné jsou vidět **pouze v rámci modulu** (jednoho .py souboru), **odjinud si je musím importovat**\n",
    "\n",
    "uvnitř modulu:\n",
    "* proměnné, vytvořené ve funkci, jsou lokální - zanikají, když zavolaná funkce skončila činnost\n",
    "* proměnné, vytvořené mimo funkce, jsou globální\n",
    "\n",
    "chci použít globální proměnné ve funkci:\n",
    "* můžu je **předat parametrem**\n",
    "  * pokud je chci ve funkci i změnit,\n",
    "    * můžu je vrátit pomocí return\n",
    "    * mutable můžu změnit in-place: .append() apod. (vnitřní i vnější (skrytá) proměnná jsou totiž jediný objekt) \n",
    "* **globální** proměnné můžu použít i ve funkci **přímo** (nemusím je nutně předat parametrem), ale **jen pro čtení**\n",
    "* *příkaz **global promenna** uvnitř funkce řekne, že se pracuje s vnější proměnnou (lze ji i měnit) - nepoužívat*"
   ]
  },
  {
   "cell_type": "markdown",
   "metadata": {
    "deletable": true,
    "editable": true
   },
   "source": [
    "funkce: **globals()** a **locals()**\n",
    "* vypíšou jako slovník všechny definované proměnné\n",
    "* mimo funkci (v nejvyšší úrovni) jsou totožné\n",
    "\n",
    "\n",
    "* všechno je objekt (a existuje, dokud na něj ukazuje nějaká proměnná),\n",
    "  * proto ve slovníku budou i: nadefinované funkce, importované moduly,.."
   ]
  },
  {
   "cell_type": "markdown",
   "metadata": {
    "deletable": true,
    "editable": true
   },
   "source": [
    "#### jak zruším proměnnou?"
   ]
  },
  {
   "cell_type": "code",
   "execution_count": 6,
   "metadata": {
    "collapsed": true,
    "deletable": true,
    "editable": true
   },
   "outputs": [],
   "source": [
    "# del promenna\n",
    "# del seznam[index]\n",
    "# del seznam[řez]   # seznam[-3:] ; seznam[::2]\n",
    "# del slovnik[klic]"
   ]
  },
  {
   "cell_type": "markdown",
   "metadata": {},
   "source": [
    "* příkazem **def funkce():** vznikne proměnná **funkce**\n",
    "* je to (jako všechno v pythonu) objekt, na nějž odkazuje proměnná, proto...\n",
    "* proměnnou **funkce** mohu třeba předat parametrem\n",
    "* mohu si ji uložit do další proměnné:\n",
    "  * vypocet = funkce\n",
    "  * nyní na objekt ukazují 2 proměnné: funkce, vypocet\n",
    "\n",
    "#### funkce lambda\n",
    "* nepojmenovaná (anonymní) funkce\n",
    "* jméno dostane, když ji přiřadím do proměnné\n",
    "* může mít jen parametry (psané jako normální parametry) a vracené hodnoty (psané bez slova return)"
   ]
  },
  {
   "cell_type": "code",
   "execution_count": null,
   "metadata": {
    "collapsed": true
   },
   "outputs": [],
   "source": [
    "soucin = lambda a, b=2 : a*b\n",
    "soucin(5)"
   ]
  }
 ],
 "metadata": {
  "kernelspec": {
   "display_name": "Python 3",
   "language": "python",
   "name": "python3"
  },
  "language_info": {
   "codemirror_mode": {
    "name": "ipython",
    "version": 3
   },
   "file_extension": ".py",
   "mimetype": "text/x-python",
   "name": "python",
   "nbconvert_exporter": "python",
   "pygments_lexer": "ipython3",
   "version": "3.6.0"
  }
 },
 "nbformat": 4,
 "nbformat_minor": 2
}
