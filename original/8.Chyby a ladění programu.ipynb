{
 "cells": [
  {
   "cell_type": "markdown",
   "metadata": {},
   "source": [
    "## Chyby - Výjimky"
   ]
  },
  {
   "cell_type": "markdown",
   "metadata": {},
   "source": [
    "**chyba -> naplnění objektu výjimky**\n",
    "* je-li tento typ výjimky speciálně ošetřen (try/except), provede se jen toto ošetření\n",
    "* není-li ošetřen - vypíše se a program se zastaví (Error), případně pokračuje (Warning)"
   ]
  },
  {
   "cell_type": "markdown",
   "metadata": {},
   "source": [
    "Výpis neošetřené - vypíše se **stack** = hierarchie volání"
   ]
  },
  {
   "cell_type": "code",
   "execution_count": null,
   "metadata": {
    "collapsed": false
   },
   "outputs": [],
   "source": [
    "def fu():\n",
    "    a = 1 / 0\n",
    "fu()"
   ]
  },
  {
   "cell_type": "markdown",
   "metadata": {},
   "source": [
    "**typy výjimek**: dokumentace Pythonu, www.web2py.com/book, 2.kapitola - základy Pythonu (py2) (kromě HTTP)\n",
    "* **dědičnost** - při ošetření můžeme odchytávat výjimku nebo její nadřazené (obecnější)"
   ]
  },
  {
   "cell_type": "code",
   "execution_count": null,
   "metadata": {
    "collapsed": false
   },
   "outputs": [],
   "source": [
    "def fu():\n",
    "    a = 1 / 0\n",
    "\n",
    "try:\n",
    "    fu()\n",
    "except ZeroDivisionError as exc:\n",
    "    print(exc)\n",
    "    print()\n",
    "    print(type(exc))\n",
    "    print()\n",
    "    print(dir(exc))\n",
    "    print()\n",
    "    print(exc.with_traceback())"
   ]
  },
  {
   "cell_type": "code",
   "execution_count": null,
   "metadata": {
    "collapsed": true
   },
   "outputs": [],
   "source": [
    "def fu():\n",
    "    a = 1 / 0\n",
    "\n",
    "try:\n",
    "    fu()\n",
    "except ZeroDivisionError as exc:\n",
    "    # print(exc)\n",
    "    a = \"nekonečno\""
   ]
  },
  {
   "cell_type": "code",
   "execution_count": null,
   "metadata": {
    "collapsed": false
   },
   "outputs": [],
   "source": [
    "def fu():\n",
    "    a = 1 / 0\n",
    "\n",
    "try:\n",
    "    fu()\n",
    "except ZeroDivisionError as exc:\n",
    "    # print(...)\n",
    "    raise exc"
   ]
  },
  {
   "cell_type": "code",
   "execution_count": null,
   "metadata": {
    "collapsed": false
   },
   "outputs": [],
   "source": []
  },
  {
   "cell_type": "code",
   "execution_count": null,
   "metadata": {
    "collapsed": true
   },
   "outputs": [],
   "source": [
    "x = \"ahoj\"\n",
    "# x = 1\n",
    "if type(x) != int:\n",
    "    raise ValueError"
   ]
  },
  {
   "cell_type": "markdown",
   "metadata": {},
   "source": [
    "### Ladění"
   ]
  },
  {
   "cell_type": "code",
   "execution_count": null,
   "metadata": {
    "collapsed": true
   },
   "outputs": [],
   "source": [
    "import pdb\n",
    "pdb.set_trace()"
   ]
  },
  {
   "cell_type": "code",
   "execution_count": null,
   "metadata": {
    "collapsed": true
   },
   "outputs": [],
   "source": [
    "import pdb; pdb.set_trace()    # v pyCharm si definovat alias (pdb), který toto vypíše"
   ]
  },
  {
   "cell_type": "markdown",
   "metadata": {},
   "source": [
    "při zastavení lze\n",
    "* h          - vypíše příkazy\n",
    "* h příkaz   - co dělá konkrétní příkaz\n",
    "\n",
    "\n",
    "* w - where  - vypíše hierarchii volání (stack)\n",
    "* l - list   - vypíše kód v okolí pozastavení (pokračovat Enterem)\n",
    "\n",
    "\n",
    "* lze vypisovat hodnoty výrazů\n",
    "* lze provádět jakékoli příkazy (neovlivním další pokračování?)\n",
    "\n",
    "\n",
    "* s - step   - pokračuj o 1 příkaz (je-li to volání: jdi dovnitř)\n",
    "* n - next   - pokračuj o 1 příkaz (je-li to volání: nechoď dovnitř)\n",
    "* r - return - dokonči tak, aby ses vrátil o úroveň výš\n",
    "\n",
    "\n",
    "* b - break  - + číslo řádky - pokračuj na zadané číslo řádky (tam se zastavuj vždy)\n",
    "* tbreak     - + číslo řádky - pokračuj na zadané číslo řádky (tam se zastavuj jednou a zarážku zlikviduj)\n",
    "* c          - pokračuj (k zarážce nebo do chyby/konce)\n",
    "\n",
    "\n",
    "* q          - ukonči běh programu"
   ]
  },
  {
   "cell_type": "code",
   "execution_count": null,
   "metadata": {
    "collapsed": false
   },
   "outputs": [],
   "source": [
    "# pro složitější objekty - nainstalovat: pip install objbrowser\n",
    "from objbrowser import browse\n",
    "browse(promenna)"
   ]
  },
  {
   "cell_type": "markdown",
   "metadata": {},
   "source": [
    "ladit lze také přímo z IDE (vývojářských prostředí) jako je pyCharm"
   ]
  }
 ],
 "metadata": {
  "kernelspec": {
   "display_name": "Python 3",
   "language": "python",
   "name": "python3"
  },
  "language_info": {
   "codemirror_mode": {
    "name": "ipython",
    "version": 3
   },
   "file_extension": ".py",
   "mimetype": "text/x-python",
   "name": "python",
   "nbconvert_exporter": "python",
   "pygments_lexer": "ipython3",
   "version": "3.6.0"
  }
 },
 "nbformat": 4,
 "nbformat_minor": 2
}
