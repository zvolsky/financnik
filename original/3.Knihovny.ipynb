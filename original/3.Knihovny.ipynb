{
 "cells": [
  {
   "cell_type": "markdown",
   "metadata": {},
   "source": [
    "## 3. Rozšíření (doplňky) jazyka: knihovny"
   ]
  },
  {
   "cell_type": "markdown",
   "metadata": {},
   "source": [
    "### Uspořádání Pythonu\n",
    "* základní jazyk\n",
    "* knihovny - připojují se příkazem: import...\n",
    "  * vestavěné knihovny\n",
    "    * *nejsou v samostatném souboru*\n",
    "  * standardní knihovna\n",
    "    * *také už nainstalovány s Pythonem; jsou v extra souborech*\n",
    "  * další knihovny od jiných autorů"
   ]
  },
  {
   "cell_type": "markdown",
   "metadata": {},
   "source": [
    "### Ukázka: Vestavěné knihovny"
   ]
  },
  {
   "cell_type": "code",
   "execution_count": 3,
   "metadata": {
    "collapsed": true
   },
   "outputs": [],
   "source": [
    "import math"
   ]
  },
  {
   "cell_type": "code",
   "execution_count": null,
   "metadata": {
    "collapsed": true
   },
   "outputs": [],
   "source": [
    "math"
   ]
  },
  {
   "cell_type": "code",
   "execution_count": null,
   "metadata": {
    "collapsed": true
   },
   "outputs": [],
   "source": [
    "math.pi"
   ]
  },
  {
   "cell_type": "code",
   "execution_count": null,
   "metadata": {
    "collapsed": true
   },
   "outputs": [],
   "source": [
    "dir(math)"
   ]
  },
  {
   "cell_type": "code",
   "execution_count": null,
   "metadata": {
    "collapsed": true
   },
   "outputs": [],
   "source": [
    "help(math)"
   ]
  },
  {
   "cell_type": "code",
   "execution_count": null,
   "metadata": {
    "collapsed": true
   },
   "outputs": [],
   "source": [
    "math.sqrt(81)"
   ]
  },
  {
   "cell_type": "markdown",
   "metadata": {},
   "source": [
    "Úkol: spočítej faktoriál 5-ti (čili: 5 x 4 x 3 x 2 x 1)"
   ]
  },
  {
   "cell_type": "code",
   "execution_count": null,
   "metadata": {
    "collapsed": true
   },
   "outputs": [],
   "source": []
  },
  {
   "cell_type": "code",
   "execution_count": null,
   "metadata": {
    "collapsed": true
   },
   "outputs": [],
   "source": [
    "import datetime"
   ]
  },
  {
   "cell_type": "code",
   "execution_count": null,
   "metadata": {
    "collapsed": true
   },
   "outputs": [],
   "source": [
    "datetime"
   ]
  },
  {
   "cell_type": "code",
   "execution_count": null,
   "metadata": {
    "collapsed": true
   },
   "outputs": [],
   "source": [
    "datetime.date"
   ]
  },
  {
   "cell_type": "code",
   "execution_count": null,
   "metadata": {
    "collapsed": true
   },
   "outputs": [],
   "source": [
    "datetime.date.today"
   ]
  },
  {
   "cell_type": "code",
   "execution_count": null,
   "metadata": {
    "collapsed": true
   },
   "outputs": [],
   "source": [
    "datetime.date.today()"
   ]
  },
  {
   "cell_type": "markdown",
   "metadata": {},
   "source": [
    "Úkol: najdi v podobjektu datetime.datetime funkci pro akutální datum+čas a zjisti, kolik je právě hodin"
   ]
  },
  {
   "cell_type": "code",
   "execution_count": null,
   "metadata": {
    "collapsed": true
   },
   "outputs": [],
   "source": []
  },
  {
   "cell_type": "markdown",
   "metadata": {},
   "source": [
    "datetime.timedelta posouvá čas dopředu (+) nebo dozadu (-); např. **včera**"
   ]
  },
  {
   "cell_type": "code",
   "execution_count": null,
   "metadata": {
    "collapsed": true
   },
   "outputs": [],
   "source": [
    "datetime.date.today() - datetime.timedelta(days=1)"
   ]
  },
  {
   "cell_type": "markdown",
   "metadata": {},
   "source": [
    "Úkol: **zítra**, **za 14 dnů**, **pozítří ve stejnou hodinu**"
   ]
  },
  {
   "cell_type": "code",
   "execution_count": null,
   "metadata": {
    "collapsed": true
   },
   "outputs": [],
   "source": []
  },
  {
   "cell_type": "code",
   "execution_count": null,
   "metadata": {
    "collapsed": true
   },
   "outputs": [],
   "source": []
  },
  {
   "cell_type": "code",
   "execution_count": null,
   "metadata": {
    "collapsed": true
   },
   "outputs": [],
   "source": []
  },
  {
   "cell_type": "markdown",
   "metadata": {},
   "source": [
    "Úkol: **před dvěma hodinami**; Tip: pro timedelta použij seconds=.. nebo hours=.."
   ]
  },
  {
   "cell_type": "code",
   "execution_count": null,
   "metadata": {
    "collapsed": true
   },
   "outputs": [],
   "source": []
  },
  {
   "cell_type": "markdown",
   "metadata": {},
   "source": [
    "Konkrétní datum můžeme zadat takto:"
   ]
  },
  {
   "cell_type": "code",
   "execution_count": null,
   "metadata": {
    "collapsed": true
   },
   "outputs": [],
   "source": [
    "datetime.date(2017, 9, 28)"
   ]
  },
  {
   "cell_type": "markdown",
   "metadata": {},
   "source": [
    "Dvě data můžeme odčítat. Rozdíl bude timedelta.\n",
    "\n",
    "Úkol: Čínská družice Beidou 2A startovala 24.5.2003. Jak dlouho to bylo po zahájení programu? Beidou 1A: 30.10.2000"
   ]
  },
  {
   "cell_type": "code",
   "execution_count": null,
   "metadata": {
    "collapsed": true
   },
   "outputs": [],
   "source": []
  },
  {
   "cell_type": "markdown",
   "metadata": {},
   "source": [
    "Úkol: Kolik dnů zbývá do Silvestra?"
   ]
  },
  {
   "cell_type": "code",
   "execution_count": null,
   "metadata": {
    "collapsed": true
   },
   "outputs": [],
   "source": []
  },
  {
   "cell_type": "markdown",
   "metadata": {},
   "source": [
    "### Ukázka: Knihovny v souborech"
   ]
  },
  {
   "cell_type": "code",
   "execution_count": null,
   "metadata": {
    "collapsed": true
   },
   "outputs": [],
   "source": [
    "import random"
   ]
  },
  {
   "cell_type": "code",
   "execution_count": null,
   "metadata": {
    "collapsed": false
   },
   "outputs": [],
   "source": [
    "random"
   ]
  },
  {
   "cell_type": "code",
   "execution_count": null,
   "metadata": {
    "collapsed": true
   },
   "outputs": [],
   "source": [
    "random.random"
   ]
  },
  {
   "cell_type": "code",
   "execution_count": null,
   "metadata": {
    "collapsed": true
   },
   "outputs": [],
   "source": [
    "help(random.random)"
   ]
  },
  {
   "cell_type": "markdown",
   "metadata": {},
   "source": [
    "Připomínáme: Když chceš následující vyzkoušet vícekrát, místo Ctrl+Enter stiskni Alt+Enter (a zkopíruj příkaz do prázdné řádky)"
   ]
  },
  {
   "cell_type": "code",
   "execution_count": null,
   "metadata": {
    "collapsed": true
   },
   "outputs": [],
   "source": [
    "random.random()    # od 0 do 1"
   ]
  },
  {
   "cell_type": "code",
   "execution_count": null,
   "metadata": {
    "collapsed": true
   },
   "outputs": [],
   "source": [
    "random.randint(0, 1)   # celá čísla od..do ; v tomto případě náhodně nuly/jedničky"
   ]
  },
  {
   "cell_type": "markdown",
   "metadata": {},
   "source": [
    "Úkol: naprogramuj hod hrací kostkou"
   ]
  },
  {
   "cell_type": "code",
   "execution_count": null,
   "metadata": {
    "collapsed": true
   },
   "outputs": [],
   "source": []
  },
  {
   "cell_type": "markdown",
   "metadata": {},
   "source": [
    "### Knihovny v souborech\n",
    "\n",
    "#### Modul\n",
    "* v jediném souboru \\*.py\n",
    "  * \\*.py upravuje člověk/programátor (zdrojový soubor)\n",
    "  * odvozené soubory vznikají automaticky a nejsou určeny pro člověka (\\*.pyc, \\*.pyo, ..)\n",
    "  \n",
    "#### Package\n",
    "* v adresáři a jeho souborech a podadresářích\n",
    "  * každý takový adresář musí obsahovat soubor `__init__.py` (třeba prázdný) - jiné adresáře se ignorují\n",
    "  \n",
    "\n",
    "používání vestavěná/modul/package se nijak neliší"
   ]
  },
  {
   "cell_type": "markdown",
   "metadata": {},
   "source": [
    "### Kde hledat vhodné knihovny\n",
    "* dotazem do **Googl**u: \"python stock library\", \"what is the best python library for stock market\"\n",
    "* vhodné výsledky jsou hlavně na **stackoverflow.com**, stackexchange.com\n",
    "  * můžeme hledání omezit: \"python stock library site:stackoverflow.com\"\n",
    "* http://pypi.python.org je databáze knihoven\n",
    "  * lze hledat podle klíčového slova; vyzkoušej \"stock\"\n",
    "  * proklikem lze najít\n",
    "    * odkaz na dokumentaci\n",
    "    * odkaz na zdrojové kódy (často na github.com) - ty jsou většinou novější, než verze publikovaná na pypi\n",
    "* v pypi můžu také hledat příkazem\n",
    "  * `pip search hledaneslovo`"
   ]
  },
  {
   "cell_type": "markdown",
   "metadata": {},
   "source": [
    "### Je knihovna populární a udržovaná?\n",
    "* měl bych jí nejen nalézt na pypi, ale taky na google, stackoverflow\n",
    "* aktualizovaná v poslední době?\n",
    "  * pokud jsou zdrojové kódy na github.com, prozkoumat odkazy Pulse, Graph\n",
    "  * jinak hledat vydání verzí (na PyPI nebo domovských stránkách)"
   ]
  },
  {
   "cell_type": "markdown",
   "metadata": {},
   "source": [
    "### Má knihovna vhodnou licenci?\n",
    "* zdrojové kódy nezveřejněné, **placená** knihovna\n",
    "* zdrojové kódy nezveřejněné, **free** - můžu zdarma používat, ale ne měnit\n",
    "* **open source** - můžu zdarma používat, zdrojové kódy můžu i měnit\n",
    "  * **copyleft** licence\n",
    "    * změněné zdrojové kódy musím publikovat (pod stejnou licencí)\n",
    "    * pokud to zařadím do většího produktu, musí mít stejnou licenci\n",
    "    * přísnost (kdy zveřejnit změny):\n",
    "      * GPL - poskytovaný software musím (zdrojové kódy) zveřejnit\n",
    "      * Affero (nejpřísnější) - i neposkytovaný software (\"vevnitř webu\" nebo jen pro soukromé účely) musím zveřejnit\n",
    "  * moderní **tolerantní** licence\n",
    "    * BSD, LGPL, MIT\n",
    "    * je potřeba si pročíst/zjistit detaily, ale..\n",
    "      * nevyžadují další zveřejnění\n",
    "      * na některých lze i založit komerční produkt"
   ]
  },
  {
   "cell_type": "markdown",
   "metadata": {},
   "source": [
    "### Jak nainstaluji?\n",
    "* pokud používám miniconda/anaconda a je to populární knihovna\n",
    "  * v anaconda již nainstalována\n",
    "  * v miniconda (do prostředí py36):\n",
    "    * `conda install -n py36 xxxx`\n",
    "  * odstranit nainstalovanou:\n",
    "    * `conda remove -n py36 xxxx`\n",
    "* ostatní knihovny z pypi (a vždycky, když nepoužívám miniconda/anaconda)\n",
    "  * `pip install xxxx`\n",
    "\n",
    "\n",
    "* poznámka pro Windows:\n",
    "  * při instalaci pomocí `pip` se knihovna stáhne a překládá pro operační systém (Windows)\n",
    "  * složitější jsou často napsány v jazyce C++ a to je problém, protože musíte mít nainstalované správné prostředky pro překlad (bez nich: chyby, knihovna se nenainstaluje)\n",
    "  * proto je lepší instalovat pomocí conda\n",
    "  * pokud nepoužívám conda a pomocí pip instalace knihovny havaruje, tak\n",
    "    * buď hledat knihovnu na http://www.lfd.uci.edu/~gohlke/pythonlibs/ (i zde číst nahoře, co instalovat předem)\n",
    "    * nebo musím hledat vypsané chyby (Google) a opravit ... a nebo to vzdát"
   ]
  },
  {
   "cell_type": "markdown",
   "metadata": {},
   "source": [
    "Úkol: nainstaluj si knihovny Pandas a pandas-datareader ; tip: najdi na PyPI; pak zkus instalovat pomocí conda\n",
    "\n",
    "Ověř, zda se povedlo:"
   ]
  },
  {
   "cell_type": "code",
   "execution_count": 8,
   "metadata": {
    "collapsed": true
   },
   "outputs": [],
   "source": [
    "import pandas"
   ]
  },
  {
   "cell_type": "code",
   "execution_count": null,
   "metadata": {
    "collapsed": false
   },
   "outputs": [],
   "source": [
    "import pandas-datareader    # zrada: modul se po instalaci jmenuje jinak ...."
   ]
  },
  {
   "cell_type": "markdown",
   "metadata": {},
   "source": [
    "Co teď:\n",
    "* `conda` vnitřně použila `pip`, můžeme zadat:\n",
    "  * `pip show pandas-datareader`\n",
    "  * kde zjistíme home page a umístění (location) kam byla knihovna instalována\n",
    "* můžeme hledat na home page (nebo na PyPI), jak se knihovna používá (importuje)\n",
    "* nebo v umístění, kam byla instalována, můžeme zkusit najít stejnojmenný adresář .egg_info a v něm v souboru top_level.txt přečíst jméno pro import\n",
    "\n",
    "\n",
    "* a nebo jen ... zkusit odhadnout\n",
    "\n",
    "Zkus tedy importovat pandas-datareader správně:"
   ]
  },
  {
   "cell_type": "code",
   "execution_count": null,
   "metadata": {
    "collapsed": true
   },
   "outputs": [],
   "source": []
  },
  {
   "cell_type": "markdown",
   "metadata": {},
   "source": [
    "Úkol: nainstaluj si knihovnu cnb z pypi ; odzkoušej, zda zjistí kurz Eura z ČNB:"
   ]
  },
  {
   "cell_type": "code",
   "execution_count": null,
   "metadata": {
    "collapsed": true
   },
   "outputs": [],
   "source": [
    "import cnb"
   ]
  },
  {
   "cell_type": "code",
   "execution_count": null,
   "metadata": {
    "collapsed": true
   },
   "outputs": [],
   "source": [
    "cnb"
   ]
  },
  {
   "cell_type": "code",
   "execution_count": null,
   "metadata": {
    "collapsed": true
   },
   "outputs": [],
   "source": [
    "cnb.rate('EUR')"
   ]
  },
  {
   "cell_type": "markdown",
   "metadata": {},
   "source": [
    "### Knihovna není ani na pypi, co teď?\n",
    "* některé knihovny autor ani nedal na pypi\n",
    "* přesto mohou být užitečné\n",
    "* zvážit klady (co knihovna umí) a zápory (snad se už nebude v budoucnu zlepšovat, špatná dokumentace, těžká instalace)\n",
    "* **z Githubu** (ne z domovských stránek):\n",
    "  * mám nejlepší Fork? ve složitých případech Graph/Network, příklad: https://github.com/noisy/PyZ3950/network\n",
    "  * `pip install git+https://github.com/autor/xxxx`\n",
    "* download **z domovských stránek**:\n",
    "  * stáhnout, rozbalit zip\n",
    "  * `python setup.py sdist`   # v základním adresáři, kde je `setup.py` ; vytvoří adresář dist/\n",
    "  * `pip install mypackage --no-index --no-cache-dir --find-links file:///home/.../xxxx/dist/`\n",
    "* nejjednodušší **modul** \\*.py (autor nepřidal ani `setup.py`)\n",
    "  * nainstalovat nějaký jednoduchý modul, třeba `cnb` a podívat se, kam se nakopíroval (viz výše)\n",
    "  * tamtéž nakopírovat požadovaný modul xxxx - pak půjde `import xxxx`"
   ]
  },
  {
   "cell_type": "markdown",
   "metadata": {},
   "source": [
    "### Co všechno mám nainstalováno?\n",
    "`pip freeze`"
   ]
  }
 ],
 "metadata": {
  "kernelspec": {
   "display_name": "Python 3",
   "language": "python",
   "name": "python3"
  },
  "language_info": {
   "codemirror_mode": {
    "name": "ipython",
    "version": 3
   },
   "file_extension": ".py",
   "mimetype": "text/x-python",
   "name": "python",
   "nbconvert_exporter": "python",
   "pygments_lexer": "ipython3",
   "version": "3.6.0"
  }
 },
 "nbformat": 4,
 "nbformat_minor": 2
}
