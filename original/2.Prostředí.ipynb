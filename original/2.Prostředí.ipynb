{
 "cells": [
  {
   "cell_type": "markdown",
   "metadata": {},
   "source": [
    "## 2. Seznámení s prostředími"
   ]
  },
  {
   "cell_type": "markdown",
   "metadata": {},
   "source": [
    "### Konzolová verze\n",
    "* ukončení: exit()"
   ]
  },
  {
   "cell_type": "markdown",
   "metadata": {},
   "source": [
    "### IDLE\n",
    "* instalace\n",
    "  * Linux: přiinstalovat idle3\n",
    "    * `aptitude install idle3`\n",
    "  * Windows: je součástí instalace (z python.org)"
   ]
  },
  {
   "cell_type": "markdown",
   "metadata": {},
   "source": [
    "### IPython\n",
    "* Podklad pro Jupyter *(což je prostředí, které právě používáme)*\n",
    "* instalace\n",
    "  * Linux: přiinstalovat ipython3\n",
    "    * `aptitude install ipython3`\n",
    "  * Windows: instalovat rovnou Jupyter"
   ]
  },
  {
   "cell_type": "markdown",
   "metadata": {},
   "source": [
    "## Jupyter\n",
    "* *prostředí, které právě používáme*\n",
    "* verze prostředí:\n",
    "  * `jupyter console`\n",
    "    * *je to vlastně ipython*\n",
    "  * `jupyter qtconsole`\n",
    "    * *je to něco jako idle*\n",
    "  * `jupyter notebook`\n",
    "    * ipython z webového prohlížeče"
   ]
  },
  {
   "cell_type": "markdown",
   "metadata": {},
   "source": [
    "### Volba podle účelu\n",
    "* zkoušíme si vlastní věci:\n",
    "  * `idle`\n",
    "  * `jupyter qtconsole`\n",
    "* školíme, zkoušíme věci \"v návodu\":\n",
    "  * `jupyter notebook`\n",
    "* vyvíjeme, píšeme vlastní program (kód):\n",
    "  * jednoduchý editor, ale vhodný pro Python (na Windows třeba PSPad)\n",
    "  * specializované vývojové prostředí"
   ]
  },
  {
   "cell_type": "markdown",
   "metadata": {},
   "source": [
    "### Specializované (integrované) vývojové prostředí (IDE)\n",
    "* *jsou jich desítky (zdarma nebo placené)*\n",
    "* PyCharm Community Edition: https://www.jetbrains.com/pycharm/download\n",
    "  * *pokud nepracuje, není možná nainstalovaná Java*"
   ]
  }
 ],
 "metadata": {
  "kernelspec": {
   "display_name": "Python 3",
   "language": "python",
   "name": "python3"
  },
  "language_info": {
   "codemirror_mode": {
    "name": "ipython",
    "version": 3
   },
   "file_extension": ".py",
   "mimetype": "text/x-python",
   "name": "python",
   "nbconvert_exporter": "python",
   "pygments_lexer": "ipython3",
   "version": "3.6.0"
  }
 },
 "nbformat": 4,
 "nbformat_minor": 2
}
