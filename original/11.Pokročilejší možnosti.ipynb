{
 "cells": [
  {
   "cell_type": "markdown",
   "metadata": {
    "deletable": true,
    "editable": true
   },
   "source": [
    "## Pokročilejší možnosti"
   ]
  },
  {
   "cell_type": "markdown",
   "metadata": {
    "deletable": true,
    "editable": true
   },
   "source": [
    "#### jméno souboru - umístění na disku\n",
    "* os.getcwd() zjistí pracovní adresář\n",
    "* os.chdir(...) změní pracovní adresář\n",
    "* os.path.join(...) pro sestavení cesty"
   ]
  },
  {
   "cell_type": "code",
   "execution_count": null,
   "metadata": {
    "collapsed": false,
    "deletable": true,
    "editable": true
   },
   "outputs": [],
   "source": [
    "import os\n",
    "os.getcwd()"
   ]
  },
  {
   "cell_type": "code",
   "execution_count": null,
   "metadata": {
    "collapsed": false,
    "deletable": true,
    "editable": true
   },
   "outputs": [],
   "source": [
    "os.path.join(os.getcwd(), 'poadresar', 'soubor.txt')"
   ]
  },
  {
   "cell_type": "markdown",
   "metadata": {
    "deletable": true,
    "editable": true
   },
   "source": [
    "#### Zápis do souboru, přečtení souboru\n",
    "* **open()** otevře soubor a získá na něj odkaz (tzv. handle)\n",
    "* používá se konstrukce **with**, která při svém opuštění zajistí uzavření souboru"
   ]
  },
  {
   "cell_type": "code",
   "execution_count": null,
   "metadata": {
    "collapsed": true,
    "deletable": true,
    "editable": true
   },
   "outputs": [],
   "source": [
    "with open(cesta_k_souboru, mod) as f:\n",
    "    obsahsouboru = f.read()    # defaultně: konce řádků převede na '\\n'\n",
    "    # nebo: f.readlines()             # bude rozděleno na řádky (list), ale každý bude končit '\\n'\n",
    "    # nebo: f.write(nejakytext)       # '\\n' jsou konce řádků"
   ]
  },
  {
   "cell_type": "markdown",
   "metadata": {},
   "source": [
    "#### mod\n",
    "mód otevření souboru\n",
    "* **r** pro čtení\n",
    "* **x** vytvořit pro zápis (error pokud existuje)\n",
    "* **w** pro zápis (původní obsah se přepíše)\n",
    "* **a** pro zápis na konec, za původní obsah\n",
    "* **+** lze kombinovat čtení a zápis"
   ]
  },
  {
   "cell_type": "markdown",
   "metadata": {},
   "source": [
    "#### Jak vhodně pracovat s jednotlivými řádky?"
   ]
  },
  {
   "cell_type": "code",
   "execution_count": null,
   "metadata": {
    "collapsed": true
   },
   "outputs": [],
   "source": [
    "with open(cesta_ke_ctenemu_souboru) as f:\n",
    "    obsahsouboru = f.read()\n",
    "    radky = obsahsouboru.splitlines()   # dostanu jednotlivé řádky, bez ukončovacích znaků\n",
    "\n",
    "with open(cesta_k_zapisovanemu_souboru, 'x') as f:\n",
    "    f.writelines(radek + '\\n' for radek in radky)   # přidá ukončovací znak ke každému řádku"
   ]
  },
  {
   "cell_type": "markdown",
   "metadata": {
    "deletable": true,
    "editable": true
   },
   "source": [
    "#### práci s textovými soubory lze ovlivnit dalšími parametry: \n",
    "open(cesta_k_souboru, mod, encoding=None, newline=None)\n",
    "* pokud je nepoužijeme,\n",
    "  * překóduje se text defaultním kódováním operač.systému\n",
    "  * konce řádků se převedou mezi '\\n' v pythonu a používaným koncem řádků v operačním systému\n",
    "* ... a to právě skoro vždy chceme\n",
    "* pokud ale potřebujeme pracovat se soubory s \"cizím\" kódováním nebo konci řádků, můžeme parametry použít"
   ]
  },
  {
   "cell_type": "markdown",
   "metadata": {},
   "source": [
    "*možná zrada: utf-8 soubor může mít identifikační znaky na začátku - zde nebudeme řešit*"
   ]
  },
  {
   "cell_type": "markdown",
   "metadata": {},
   "source": [
    "Pokud nám nevyhovuje chování pro texty (pro str), můžeme přidat do módu: **b**\n",
    "* newline ani encoding se neuplatní - text se čte/píše bez jakékoli změny\n",
    "* na straně pythonu nebude text (typ: str), ale binární řetězec (typ: bytes; b'...') - **přesně stejně jako v souboru**\n",
    "\n",
    "\n",
    "Pokud by to byl text a chtěl bych to dělat takto (což je nevhodné), bude bytes řetězec zakódovaný (přesně stejně jao v souboru, např. v utf-8) a abych dostal normální text (typ: str), musel bych ho odkódovat:\n",
    "* text = byty.decode()   # default=utf-8; případně byty.decode('cp1250') - načtení souboru z českých Windows\n",
    "\n",
    "a zpět:\n",
    "* byty = text.encode()\n",
    "\n",
    "**Ale**: Postupovat takto pro texty je nevhodné! **Přesně toto pro nás udělá open(), když b vynecháme.** S módem **b** zapisovat jen skutečně binární řetězce (obrázky,..)"
   ]
  },
  {
   "cell_type": "code",
   "execution_count": null,
   "metadata": {
    "collapsed": true,
    "deletable": true,
    "editable": true
   },
   "outputs": [],
   "source": []
  },
  {
   "cell_type": "code",
   "execution_count": null,
   "metadata": {
    "collapsed": true,
    "deletable": true,
    "editable": true
   },
   "outputs": [],
   "source": []
  }
 ],
 "metadata": {
  "kernelspec": {
   "display_name": "Python 3",
   "language": "python",
   "name": "python3"
  },
  "language_info": {
   "codemirror_mode": {
    "name": "ipython",
    "version": 3
   },
   "file_extension": ".py",
   "mimetype": "text/x-python",
   "name": "python",
   "nbconvert_exporter": "python",
   "pygments_lexer": "ipython3",
   "version": "3.6.0"
  }
 },
 "nbformat": 4,
 "nbformat_minor": 2
}
