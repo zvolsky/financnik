{
 "cells": [
  {
   "cell_type": "code",
   "execution_count": null,
   "metadata": {
    "collapsed": true
   },
   "outputs": [],
   "source": []
  },
  {
   "cell_type": "code",
   "execution_count": null,
   "metadata": {
    "collapsed": true
   },
   "outputs": [],
   "source": []
  },
  {
   "cell_type": "code",
   "execution_count": null,
   "metadata": {
    "collapsed": true
   },
   "outputs": [],
   "source": []
  },
  {
   "cell_type": "code",
   "execution_count": null,
   "metadata": {
    "collapsed": true
   },
   "outputs": [],
   "source": []
  },
  {
   "cell_type": "code",
   "execution_count": null,
   "metadata": {
    "collapsed": true
   },
   "outputs": [],
   "source": []
  },
  {
   "cell_type": "markdown",
   "metadata": {},
   "source": [
    "## Větvení programu - If podmínka\n",
    "* Tipy\n",
    "  * v místě, kam patří (odsazený) blok kódu, musíš vždy něco uvést; minimálně příkaz: pass\n",
    "  * pro odzkušování můžeš použít příkaz, který vypíše hodnotu výrazu: print(vyraz)"
   ]
  },
  {
   "cell_type": "code",
   "execution_count": null,
   "metadata": {
    "collapsed": true
   },
   "outputs": [],
   "source": [
    "print(5 * 2)"
   ]
  },
  {
   "cell_type": "code",
   "execution_count": null,
   "metadata": {},
   "outputs": [],
   "source": [
    "# if podminka:\n",
    "#   neco udelej\n",
    "# elif jina-podminka:\n",
    "#   udelej neco jineho\n",
    "# else:\n",
    "#   udelej, kdyz nic nebylo spleno"
   ]
  },
  {
   "cell_type": "markdown",
   "metadata": {},
   "source": [
    "* Když je zadáno aspoň jedno město, vypiš, kolik jich je. Jinak nevypisuj nic.\n",
    "* Když je měst víc než 3, vypiš \"Spousta měst\", když méně, vypiš jejich jména. Když žádné, napiš \"Žádné město\"."
   ]
  },
  {
   "cell_type": "code",
   "execution_count": null,
   "metadata": {
    "collapsed": true
   },
   "outputs": [],
   "source": [
    "mesta = [\"Praha\", \"Olomouc\", \"Pardubice\"]"
   ]
  },
  {
   "cell_type": "code",
   "execution_count": null,
   "metadata": {
    "collapsed": true
   },
   "outputs": [],
   "source": []
  },
  {
   "cell_type": "code",
   "execution_count": null,
   "metadata": {
    "collapsed": true
   },
   "outputs": [],
   "source": []
  },
  {
   "cell_type": "markdown",
   "metadata": {},
   "source": [
    "## Větvení programu - cykly - for"
   ]
  },
  {
   "cell_type": "code",
   "execution_count": null,
   "metadata": {
    "collapsed": true
   },
   "outputs": [],
   "source": [
    "# for prvek in iterable:\n",
    "#     něco udělej"
   ]
  },
  {
   "cell_type": "markdown",
   "metadata": {},
   "source": [
    "* Vypiš města pod sebe\n",
    "* Vypiš města v obráceném pořadí. Tip: řez (slice)\n",
    "* Vypiš města s názvem delším než 5 znaků\n",
    "* Vyzkoušej si totéž s příkazem continue *(i když to zde není přínosné)*"
   ]
  },
  {
   "cell_type": "code",
   "execution_count": null,
   "metadata": {
    "collapsed": true
   },
   "outputs": [],
   "source": [
    "mesta = [\"Praha\", \"Olomouc\", \"Pardubice\"]"
   ]
  },
  {
   "cell_type": "code",
   "execution_count": null,
   "metadata": {
    "collapsed": true
   },
   "outputs": [],
   "source": []
  },
  {
   "cell_type": "code",
   "execution_count": null,
   "metadata": {
    "collapsed": true
   },
   "outputs": [],
   "source": []
  },
  {
   "cell_type": "code",
   "execution_count": null,
   "metadata": {
    "collapsed": true
   },
   "outputs": [],
   "source": []
  },
  {
   "cell_type": "code",
   "execution_count": null,
   "metadata": {
    "collapsed": true
   },
   "outputs": [],
   "source": []
  },
  {
   "cell_type": "markdown",
   "metadata": {},
   "source": [
    "* Vypiš maximum kurzu pomocí cyklu. Tip: před cyklem nastav maximum = 0.0 a zvětšuj, když najdeš větší.\n",
    "* Jak se to dělá lépe?"
   ]
  },
  {
   "cell_type": "code",
   "execution_count": null,
   "metadata": {
    "collapsed": true
   },
   "outputs": [],
   "source": [
    "kurzy = [5.321, 5.66, 5.551, 5.04]"
   ]
  },
  {
   "cell_type": "code",
   "execution_count": null,
   "metadata": {
    "collapsed": true
   },
   "outputs": [],
   "source": []
  },
  {
   "cell_type": "code",
   "execution_count": null,
   "metadata": {
    "collapsed": true
   },
   "outputs": [],
   "source": []
  },
  {
   "cell_type": "markdown",
   "metadata": {},
   "source": [
    "* Vypiš první město s názvem delším než 5 znaků. Tip: z cyklu vyskočí příkaz: break\n",
    "* Vypiš první město s názvem delším než 15 znaků. Jinak vypiš \"nenalezeno\". Tip: pokud se neprovede break, provedou se příkazy else:..."
   ]
  },
  {
   "cell_type": "code",
   "execution_count": null,
   "metadata": {
    "collapsed": true
   },
   "outputs": [],
   "source": []
  },
  {
   "cell_type": "code",
   "execution_count": null,
   "metadata": {
    "collapsed": true
   },
   "outputs": [],
   "source": []
  },
  {
   "cell_type": "markdown",
   "metadata": {},
   "source": [
    "* Opakuj cyklus 10x, s čísly 0..9, vypiš číslo a jeho 2.mocninu. Tipy: range() ; print(první, druhý, ..)"
   ]
  },
  {
   "cell_type": "code",
   "execution_count": null,
   "metadata": {
    "collapsed": true
   },
   "outputs": [],
   "source": []
  },
  {
   "cell_type": "markdown",
   "metadata": {},
   "source": [
    "* Vyber nějaké slovo. Opakuj příkazy pro každý znak slova (např. vypiš znak).\n",
    "* Vyber nějaké slovo. Opakuj příkazy pro každý znak slova: vypiš znak a jeho pozici. Tip: enumerate()\n",
    "\n",
    "Složité:\n",
    "* Vyber nějaké české slovo. Vypiš hlásky slova.\n",
    "* Vyber nějaké české slovo. Vypiš hlásky slova a zda se jedná o souhlásku nebo samohlásku."
   ]
  },
  {
   "cell_type": "code",
   "execution_count": null,
   "metadata": {
    "collapsed": true
   },
   "outputs": [],
   "source": []
  },
  {
   "cell_type": "code",
   "execution_count": null,
   "metadata": {
    "collapsed": true
   },
   "outputs": [],
   "source": []
  },
  {
   "cell_type": "code",
   "execution_count": null,
   "metadata": {
    "collapsed": true
   },
   "outputs": [],
   "source": []
  },
  {
   "cell_type": "code",
   "execution_count": null,
   "metadata": {
    "collapsed": true
   },
   "outputs": [],
   "source": []
  },
  {
   "cell_type": "code",
   "execution_count": null,
   "metadata": {
    "collapsed": true
   },
   "outputs": [],
   "source": []
  },
  {
   "cell_type": "code",
   "execution_count": null,
   "metadata": {
    "collapsed": true
   },
   "outputs": [],
   "source": []
  },
  {
   "cell_type": "markdown",
   "metadata": {},
   "source": [
    "Vnořené cykly\n",
    "* pro každé město vypiš jeho první 3 znaky (každý na samostatný řádek)\n",
    "* doplň předchozí tak, že se nad každé 3 znaky vypíše i název města"
   ]
  },
  {
   "cell_type": "code",
   "execution_count": null,
   "metadata": {
    "collapsed": true
   },
   "outputs": [],
   "source": []
  },
  {
   "cell_type": "code",
   "execution_count": null,
   "metadata": {
    "collapsed": true
   },
   "outputs": [],
   "source": []
  },
  {
   "cell_type": "markdown",
   "metadata": {},
   "source": [
    "## Jednopříkazové cykly (comprehensions)"
   ]
  },
  {
   "cell_type": "code",
   "execution_count": null,
   "metadata": {
    "collapsed": true
   },
   "outputs": [],
   "source": [
    "# [vyraz-s-prvkem for prvek in iterable]\n",
    "# {vyraz-s-prvkem for prvek in iterable}\n",
    "# {klic-s-prvkem: hodnota-s-prvkem for prvek in iterable}"
   ]
  },
  {
   "cell_type": "markdown",
   "metadata": {},
   "source": [
    "* vytvoř seznam, kde budou tytéž názvy měst\n",
    "* vytvoř seznam, kde budou tytéž názvy měst, ale v obráceném pořadí\n",
    "* vytvoř seznam, kde budou tytéž názvy měst v původním pořadí, ale každé z nich napsáno odzadu\n",
    "* vytvoř seznam, kde budou zkratky měst z jejich prvních 3 znaků\n",
    "* vytvoř množinu se znaky, které jsou v názvu 1.města\n",
    "* vytvoř pro poslední město slovník, kde klíč bude pozice znaku a hodnota bude znak\n",
    "* vytvoř pro poslední město slovník, kde klíč bude pozice znaku a hodnota bude znak velkými písmeny"
   ]
  },
  {
   "cell_type": "code",
   "execution_count": null,
   "metadata": {
    "collapsed": true
   },
   "outputs": [],
   "source": []
  },
  {
   "cell_type": "code",
   "execution_count": null,
   "metadata": {
    "collapsed": true
   },
   "outputs": [],
   "source": []
  },
  {
   "cell_type": "code",
   "execution_count": null,
   "metadata": {
    "collapsed": true
   },
   "outputs": [],
   "source": []
  },
  {
   "cell_type": "code",
   "execution_count": null,
   "metadata": {
    "collapsed": true
   },
   "outputs": [],
   "source": []
  },
  {
   "cell_type": "code",
   "execution_count": null,
   "metadata": {
    "collapsed": true
   },
   "outputs": [],
   "source": []
  },
  {
   "cell_type": "code",
   "execution_count": null,
   "metadata": {
    "collapsed": true
   },
   "outputs": [],
   "source": []
  },
  {
   "cell_type": "code",
   "execution_count": null,
   "metadata": {
    "collapsed": true
   },
   "outputs": [],
   "source": []
  },
  {
   "cell_type": "markdown",
   "metadata": {},
   "source": [
    "na konci příkazu (před závorkou) může být if... (podmínka)\n",
    "* vytvoř seznam měst s názvem kratším než 6 znaků\n",
    "* vytvoř seznam samohlásek posledního města\n",
    "* které samohlásky se vyskytují v názvu prvního města? Tip: množina(set) pomocí {...}"
   ]
  },
  {
   "cell_type": "code",
   "execution_count": null,
   "metadata": {
    "collapsed": true
   },
   "outputs": [],
   "source": []
  },
  {
   "cell_type": "code",
   "execution_count": null,
   "metadata": {
    "collapsed": true
   },
   "outputs": [],
   "source": []
  },
  {
   "cell_type": "code",
   "execution_count": null,
   "metadata": {
    "collapsed": true
   },
   "outputs": [],
   "source": []
  }
 ],
 "metadata": {
  "kernelspec": {
   "display_name": "Python 3",
   "language": "python",
   "name": "python3"
  },
  "language_info": {
   "codemirror_mode": {
    "name": "ipython",
    "version": 3
   },
   "file_extension": ".py",
   "mimetype": "text/x-python",
   "name": "python",
   "nbconvert_exporter": "python",
   "pygments_lexer": "ipython3",
   "version": "3.6.0"
  }
 },
 "nbformat": 4,
 "nbformat_minor": 2
}
