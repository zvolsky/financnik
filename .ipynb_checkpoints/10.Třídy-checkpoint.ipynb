{
 "cells": [
  {
   "cell_type": "markdown",
   "metadata": {},
   "source": [
    "## Třídy\n",
    "* jiný způsob sdružení proměnných (atributů) a funkcí (u tříd: metod), které **k sobě logicky patří**\n",
    "* v Pythonu toto zajišťuje již **modul**\n",
    "* **třída má navíc dědičnost**, lze z ní odvozovat (dědit) třídy, které mají některé vlastnosti stejné (obecné) a jiné pozměněné"
   ]
  },
  {
   "cell_type": "code",
   "execution_count": 2,
   "metadata": {
    "collapsed": true
   },
   "outputs": [],
   "source": [
    "class Zvire():\n",
    "    nohy = None        # jen naznačujeme, že každé zvíře má tento atribut; zadáme až u konkrétního\n",
    "    vyhynul = False    # default\n",
    "    kontinent = None   # NIKDY: kontinent = [] - NEBEZPEČNÉ !\n",
    "    \n",
    "    def nohy_na_leve_strane(self):\n",
    "        return self.nohy / 2\n",
    "\n",
    "    def nohy_stada(self, pocet):\n",
    "        return self.nohy * pocet"
   ]
  },
  {
   "cell_type": "code",
   "execution_count": null,
   "metadata": {
    "collapsed": false
   },
   "outputs": [],
   "source": [
    "class Had(Zvire):\n",
    "    nohy = 0\n",
    "\n",
    "class Ptak(Zvire):\n",
    "    nohy = 2\n",
    "    leta = True       # defaultní hodnota pro většinu ptáků, u nelétavých změním\n",
    "\n",
    "class Savec(Zvire):\n",
    "    nohy = 4\n",
    "\n",
    "print(issubclass(Savec, Zvire), issubclass(Savec, object))"
   ]
  },
  {
   "cell_type": "markdown",
   "metadata": {},
   "source": [
    "*v py2 byl prastarý typ tříd; pokud v něm chci \"dnešní\" třídy, musím psát:* class Zvire(object)"
   ]
  },
  {
   "cell_type": "code",
   "execution_count": null,
   "metadata": {
    "collapsed": true
   },
   "outputs": [],
   "source": [
    "kavka = Ptak()       # vytváření objektů ze tříd (objekt je poslední \"výhonek\" řetězce dědičnosti - nejvíc konkrétní)\n",
    "tucnak = Ptak()\n",
    "tucnak.leta = False\n",
    "\n",
    "print(tucnak.leta, kavka.leta)"
   ]
  },
  {
   "cell_type": "markdown",
   "metadata": {},
   "source": [
    "cvičení: nastav kontinent výskytu"
   ]
  },
  {
   "cell_type": "markdown",
   "metadata": {},
   "source": [
    "#### instanční atributy můžeme určit při vytvoření instance (objektu) pomocí metody __init__"
   ]
  },
  {
   "cell_type": "code",
   "execution_count": 8,
   "metadata": {
    "collapsed": true
   },
   "outputs": [],
   "source": [
    "class Ptak(Zvire):\n",
    "    nohy = 2\n",
    "    # leta = None   # pokud bude uvedeno, tak jen kvůli kompletnosti atributů - vždy se přepíše při vytvoření objektu\n",
    "    \n",
    "    def __init__(self, leta=True):\n",
    "        super().__init__()  # zachovej chování rodičovské třídy; aby nenastala chyba, metoda musí existovat (__xxx existuje)\n",
    "        self.leta = leta\n",
    "\n",
    "kavka = Ptak()\n",
    "tucnak = Ptak(leta=False)"
   ]
  },
  {
   "cell_type": "markdown",
   "metadata": {},
   "source": [
    "každý konkrétní objekt dědí od rodičů, vyzkoušej:\n",
    "* atribut vyhynul\n",
    "* metody pro zjištění počtu nohou\n",
    "atributy/metody se hledají směrem nahoru v hierarchii dědění - když se nenajdou -> chyba (výjimka) AttributeError"
   ]
  },
  {
   "cell_type": "code",
   "execution_count": null,
   "metadata": {
    "collapsed": true
   },
   "outputs": [],
   "source": []
  },
  {
   "cell_type": "code",
   "execution_count": null,
   "metadata": {
    "collapsed": true
   },
   "outputs": [],
   "source": []
  },
  {
   "cell_type": "code",
   "execution_count": null,
   "metadata": {
    "collapsed": true
   },
   "outputs": [],
   "source": []
  },
  {
   "cell_type": "markdown",
   "metadata": {},
   "source": [
    "Pokročilé:\n",
    "* u metod: nad def() může být příkaz: @classmethod nebo @staticmethod\n",
    "  * takové lze používat i bez vytvoření objektu (instance)\n",
    "  * je takové používání tříd přínosné ?? používat ??\n",
    "  * @... je dekorátor: dekorátory pozměňují chování následující funkce\n",
    "\n",
    "\n",
    "* **dvojí dědičnost**: třída může dědit po více liniích dědičnosti:"
   ]
  },
  {
   "cell_type": "code",
   "execution_count": null,
   "metadata": {
    "collapsed": false
   },
   "outputs": [],
   "source": [
    "class Material():\n",
    "    horlavy = None\n",
    "\n",
    "class Drevo(Material):\n",
    "    horlavy = True\n",
    "\n",
    "class Styl():\n",
    "    stoleti = None\n",
    "\n",
    "class Renesance():\n",
    "    stoleti = 16\n",
    "    \n",
    "class RenesancniDrevenyNabytek(Drevo, Renesance):\n",
    "    pass\n",
    "\n",
    "zidle = RenesancniDrevenyNabytek()\n",
    "\n",
    "print(zidle.horlavy, zidle.stoleti)"
   ]
  },
  {
   "cell_type": "code",
   "execution_count": null,
   "metadata": {
    "collapsed": true
   },
   "outputs": [],
   "source": []
  }
 ],
 "metadata": {
  "kernelspec": {
   "display_name": "Python 3",
   "language": "python",
   "name": "python3"
  },
  "language_info": {
   "codemirror_mode": {
    "name": "ipython",
    "version": 3
   },
   "file_extension": ".py",
   "mimetype": "text/x-python",
   "name": "python",
   "nbconvert_exporter": "python",
   "pygments_lexer": "ipython3",
   "version": "3.6.0"
  }
 },
 "nbformat": 4,
 "nbformat_minor": 2
}
