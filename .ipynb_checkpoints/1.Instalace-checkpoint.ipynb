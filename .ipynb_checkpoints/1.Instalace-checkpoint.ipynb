{
 "cells": [
  {
   "cell_type": "markdown",
   "metadata": {
    "deletable": true,
    "editable": true
   },
   "source": [
    "## 1. Instalace Pythonu a vývojového prostředí"
   ]
  },
  {
   "cell_type": "markdown",
   "metadata": {
    "deletable": true,
    "editable": true
   },
   "source": [
    "### Jazyk Python\n",
    "* programovací jazyk\n",
    "* starý jazyk (před 1990)\n",
    "* open source jazyk\n",
    "* jednoduchý jazyk (např. nemá datové typy)\n",
    "* druhý (?) nejpoužívanější jazyk: https://trends.google.cz/trends/explore?q=Python,Java,PHP,C%23\n",
    "* univerzální jazyk\n",
    "  * skriptování (ovládání operačního systému a specializovaných programů)\n",
    "  * vědecké výpočty\n",
    "  * **numerické výpočty, statistika**\n",
    "  * weby\n",
    "  * mikro (automatizace, robotizace, internet věcí)\n",
    "* kde spíše ne:\n",
    "  * extrémní rychlost (hlavně v reálném čase)\n",
    "  * klientská strana webu (v prohlížeči) - javascript\n",
    "* mobily: Android, iOS"
   ]
  },
  {
   "cell_type": "markdown",
   "metadata": {
    "deletable": true,
    "editable": true
   },
   "source": [
    "### Varianty Pythonu (implementace)\n",
    "* Python \"na papíře\" znamená popis jazyka, jak se má chovat\n",
    "* Interpretr pythonu (implementace) - konkrétní program, který to chování zajišťuje\n",
    "* Standard je **CPython**(Python) ze stránek python.org\n",
    "* Existují jiné: Cython, Nuitka, Jython, PyPy, ..\n",
    "* většinou open source"
   ]
  },
  {
   "cell_type": "markdown",
   "metadata": {
    "deletable": true,
    "editable": true
   },
   "source": [
    "### Verze Pythonu\n",
    "* řada 2: 2.7.xx - 2.7 je stará asi 10 let\n",
    "* řada 3: 3.6.x - stará asi 10 let\n",
    "* podobné, ale ne úplně slučitelné\n",
    "* 3 začíná převládat"
   ]
  },
  {
   "cell_type": "markdown",
   "metadata": {
    "deletable": true,
    "editable": true
   },
   "source": [
    "### Instalace\n",
    "* operační systémy\n",
    "  * v Linuxu předinstalován - zajišťuje i leccos pro operační systém\n",
    "  * ve Windows nutno instalovat\n",
    "  * Mac ?\n",
    "* typy instalací (Python=CPython)\n",
    "  * standardní instalace - z python.org\n",
    "    * pokud potřebuji přepínat více verzí Pythonu nebo doplňků (knihoven) na jednom počítači, hodí se: virtualenv\n",
    "  * conda\n",
    "    * *pro konkrétního uživatele*\n",
    "    * umožňuje přepínat verze Pythonu a doplňků (knihoven)\n",
    "    * varianty:\n",
    "      * anaconda - *obrovská* - spousta odzkoušených knihoven, *mj. pro statistiku, vědecké výpočty*\n",
    "      * miniconda - *jen základní mechanismy, knihovny si přidávám podle potřeby*"
   ]
  },
  {
   "cell_type": "markdown",
   "metadata": {},
   "source": [
    "### Conda\n",
    "* umožňuje vytvořit různá (vzájemně se neovlivňující) prostředí (dříve se vždy používal `virtualenv`)\n",
    "  * `conda create -n py36`\n",
    "  * `conda search \"^python$\"`   # vypíše dostupné verze pythonu\n",
    "  * `conda create -n py27 python=2.7.13`\n",
    "  * `source activate py27`    # pod Windows bez \"source\": activate...\n",
    "  * `python`\n",
    "  * `source deactivate`       # pod Windows bez \"source\": deactivate\n",
    "  * `python`\n",
    "* jaká prostředí jsem si už vytvořil?\n",
    "  * `conda env list`"
   ]
  }
 ],
 "metadata": {
  "kernelspec": {
   "display_name": "Python 3",
   "language": "python",
   "name": "python3"
  },
  "language_info": {
   "codemirror_mode": {
    "name": "ipython",
    "version": 3
   },
   "file_extension": ".py",
   "mimetype": "text/x-python",
   "name": "python",
   "nbconvert_exporter": "python",
   "pygments_lexer": "ipython3",
   "version": "3.6.0"
  }
 },
 "nbformat": 4,
 "nbformat_minor": 2
}
