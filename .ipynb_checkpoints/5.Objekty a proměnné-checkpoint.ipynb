{
 "cells": [
  {
   "cell_type": "markdown",
   "metadata": {},
   "source": [
    "### Přiřazovací příkaz"
   ]
  },
  {
   "cell_type": "code",
   "execution_count": null,
   "metadata": {
    "collapsed": true
   },
   "outputs": [],
   "source": [
    "# promenna = hodnota-vyrazu"
   ]
  },
  {
   "cell_type": "markdown",
   "metadata": {},
   "source": [
    "#### pack/unpack"
   ]
  },
  {
   "cell_type": "code",
   "execution_count": null,
   "metadata": {},
   "outputs": [],
   "source": [
    "prodej = 780.00, 21.0\n",
    "prodej"
   ]
  },
  {
   "cell_type": "code",
   "execution_count": null,
   "metadata": {},
   "outputs": [],
   "source": [
    "castka, sazba_dane = prodej\n",
    "print(castka, sazba_dane)"
   ]
  },
  {
   "cell_type": "code",
   "execution_count": null,
   "metadata": {},
   "outputs": [],
   "source": [
    "a = 5\n",
    "b = 3\n",
    "b, a = a, b   # prohodit 2 údaje\n",
    "print(a, b)"
   ]
  },
  {
   "cell_type": "markdown",
   "metadata": {},
   "source": [
    "* přiřazením proměnné s existujícím objektem **nový objekt nevznikne**\n",
    "  * obě proměnné budou odkazovat **na stejný objekt**\n",
    "* v ostatních případech nový objekt vznikne\n",
    "* ... zjistíme pomocí id()"
   ]
  },
  {
   "cell_type": "code",
   "execution_count": null,
   "metadata": {
    "collapsed": true
   },
   "outputs": [],
   "source": [
    "b = a = 5\n",
    "c = a\n",
    "d = (a)\n",
    "e = a + 0\n",
    "print(id(a), id(b), id(c), id(d), id(e))"
   ]
  },
  {
   "cell_type": "markdown",
   "metadata": {},
   "source": [
    "#### Operátor is (is not)\n",
    "* nezaměňovat s operátorem porovnání ==\n",
    "* zjistí, zda se **jedná** (nejedná) **o stejný objekt** (např. zda 2 proměnné jsou uloženy jako 1 objekt)\n",
    "* to skoro nikdy nepotřebujeme -> (téměř) **nepoužívat**"
   ]
  },
  {
   "cell_type": "code",
   "execution_count": null,
   "metadata": {
    "collapsed": true
   },
   "outputs": [],
   "source": [
    "a is b    # id(a) == id(b)"
   ]
  },
  {
   "cell_type": "markdown",
   "metadata": {},
   "source": [
    "I když nepotřebujeme, je **extrémně důležité toto pochopit**. Proč?\n",
    "* Datové typy\n",
    "  * immutable (neměnitelné) - int, float, bool, str, tuple, frozenset, ..\n",
    "    * žádné nebezpečí nehrozí - i když 2 proměnné ukazují na stejný objekt, kteroukoli z nich změníme jen vytvořením nového objektu (už nebudou ukazovat na stejný objekt)\n",
    "  * mutable (měnitelné) - list, set, dict, všechny složitější objekty\n",
    "    * **nebezpečné!** - mají metody(~funkce), které **mění hodnotu objektu** - tím se ale **změní hodnota všech proměnných, které na objekt ukazují !!!**"
   ]
  },
  {
   "cell_type": "code",
   "execution_count": null,
   "metadata": {
    "collapsed": true
   },
   "outputs": [],
   "source": [
    "a = b = 5\n",
    "b = \"ahoj\"\n",
    "print a"
   ]
  },
  {
   "cell_type": "code",
   "execution_count": null,
   "metadata": {
    "collapsed": true
   },
   "outputs": [],
   "source": [
    "a = b = [\"jablko\"]\n",
    "b = [\"hruška\"]\n",
    "print a"
   ]
  },
  {
   "cell_type": "code",
   "execution_count": null,
   "metadata": {
    "collapsed": true
   },
   "outputs": [],
   "source": [
    "a = b = [\"jablko\"]\n",
    "b.append(\"višeň\")\n",
    "print a"
   ]
  },
  {
   "cell_type": "code",
   "execution_count": null,
   "metadata": {
    "collapsed": true
   },
   "outputs": [],
   "source": [
    "a = b = (\"jablko\",)\n",
    "b.append(\"višeň\")\n",
    "print a"
   ]
  },
  {
   "cell_type": "markdown",
   "metadata": {},
   "source": [
    "**další nebezpečné situace** - raději **nepoužívat**:\n",
    "* **defaultní hodnota argumentu funkce**\n",
    "  * def funkce(argument1, argument2=[])\n",
    "* **atribut třídy**\n",
    "  * viz níže:"
   ]
  },
  {
   "cell_type": "code",
   "execution_count": null,
   "metadata": {
    "collapsed": true
   },
   "outputs": [],
   "source": [
    "# class Trida():\n",
    "#     atribut = []"
   ]
  },
  {
   "cell_type": "markdown",
   "metadata": {},
   "source": [
    "Protože všechno je objekt (i atributy objektu, vrácené hodnoty, ..), můžeme jednotně zjišťovat:\n",
    "* atributy - pomocí **dir()**\n",
    "* nápovědu - pomocí **help()**"
   ]
  },
  {
   "cell_type": "code",
   "execution_count": null,
   "metadata": {
    "collapsed": true
   },
   "outputs": [],
   "source": []
  },
  {
   "cell_type": "code",
   "execution_count": null,
   "metadata": {
    "collapsed": true
   },
   "outputs": [],
   "source": []
  },
  {
   "cell_type": "code",
   "execution_count": null,
   "metadata": {
    "collapsed": true
   },
   "outputs": [],
   "source": []
  },
  {
   "cell_type": "code",
   "execution_count": null,
   "metadata": {
    "collapsed": true
   },
   "outputs": [],
   "source": []
  },
  {
   "cell_type": "code",
   "execution_count": null,
   "metadata": {
    "collapsed": true
   },
   "outputs": [],
   "source": []
  },
  {
   "cell_type": "code",
   "execution_count": null,
   "metadata": {
    "collapsed": true
   },
   "outputs": [],
   "source": []
  }
 ],
 "metadata": {
  "kernelspec": {
   "display_name": "Python 3",
   "language": "python",
   "name": "python3"
  },
  "language_info": {
   "codemirror_mode": {
    "name": "ipython",
    "version": 3
   },
   "file_extension": ".py",
   "mimetype": "text/x-python",
   "name": "python",
   "nbconvert_exporter": "python",
   "pygments_lexer": "ipython3",
   "version": "3.6.0"
  }
 },
 "nbformat": 4,
 "nbformat_minor": 2
}
