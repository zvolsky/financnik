{
 "cells": [
  {
   "cell_type": "markdown",
   "metadata": {},
   "source": [
    "## 0.Používání tohoto notebooku"
   ]
  },
  {
   "cell_type": "markdown",
   "metadata": {},
   "source": [
    "Vlastní poznámky si dopiš třeba pod kterýkoli text. Např.:\n",
    "* dvoj-klepni do textu (přechod do editace)\n",
    "* klepni na konec textu\n",
    "* 3x stiskni Enter\n",
    "* hvězdičkou začni jednotlivé body, které si chceš poznamenat: \\* xxxx\n",
    "* Ctrl-Enter ukonči\n",
    "* ukládá se občas automaticky; ale můžeš použít Ctrl-S\n",
    "* vyzkoušej .......\n",
    "\n",
    "\n",
    "* aaa\n",
    "* bbb"
   ]
  }
 ],
 "metadata": {
  "kernelspec": {
   "display_name": "Python 3",
   "language": "python",
   "name": "python3"
  },
  "language_info": {
   "codemirror_mode": {
    "name": "ipython",
    "version": 3
   },
   "file_extension": ".py",
   "mimetype": "text/x-python",
   "name": "python",
   "nbconvert_exporter": "python",
   "pygments_lexer": "ipython3",
   "version": "3.6.0"
  }
 },
 "nbformat": 4,
 "nbformat_minor": 2
}
