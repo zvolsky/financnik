{
 "cells": [
  {
   "cell_type": "markdown",
   "metadata": {},
   "source": [
    "## 0.Používání tohoto notebooku"
   ]
  },
  {
   "cell_type": "markdown",
   "metadata": {},
   "source": [
    "**Vlastní poznámky** si dopiš třeba pod kterýkoli text. Např.:\n",
    "* dvoj-klepni do textu (přechod do editace)\n",
    "* klepni na konec textu\n",
    "* 3x stiskni Enter\n",
    "* hvězdičkou začni jednotlivé body, které si chceš poznamenat: \\* xxxx\n",
    "* Ctrl-Enter ukonči\n",
    "* ukládá se občas automaticky; ale můžeš použít Ctrl-S\n",
    "* vyzkoušej ......."
   ]
  },
  {
   "cell_type": "markdown",
   "metadata": {},
   "source": [
    "**Příkazy** procházej odshora a vždy je proveď. Jak?\n",
    "* Ctrl-Enter provede příkaz\n",
    "* Alt-Enter provede příkaz a přidá další prázdný řádek na další zkoušení\n",
    "* Nepotřebné prázdné řádky zrušíš pomocí menu: Edit, Delete cells"
   ]
  },
  {
   "cell_type": "code",
   "execution_count": null,
   "metadata": {
    "collapsed": true
   },
   "outputs": [],
   "source": [
    "pocet = 20 + 3"
   ]
  },
  {
   "cell_type": "code",
   "execution_count": null,
   "metadata": {
    "collapsed": true
   },
   "outputs": [],
   "source": [
    "Pocet"
   ]
  },
  {
   "cell_type": "code",
   "execution_count": null,
   "metadata": {
    "collapsed": true
   },
   "outputs": [],
   "source": [
    "pocet"
   ]
  },
  {
   "cell_type": "code",
   "execution_count": null,
   "metadata": {
    "collapsed": true
   },
   "outputs": [],
   "source": [
    "pocet * 2"
   ]
  }
 ],
 "metadata": {
  "kernelspec": {
   "display_name": "Python 3",
   "language": "python",
   "name": "python3"
  },
  "language_info": {
   "codemirror_mode": {
    "name": "ipython",
    "version": 3
   },
   "file_extension": ".py",
   "mimetype": "text/x-python",
   "name": "python",
   "nbconvert_exporter": "python",
   "pygments_lexer": "ipython3",
   "version": "3.6.0"
  }
 },
 "nbformat": 4,
 "nbformat_minor": 2
}
