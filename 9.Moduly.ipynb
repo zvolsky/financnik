{
 "cells": [
  {
   "cell_type": "markdown",
   "metadata": {},
   "source": [
    "## Moduly\n",
    "* **modul** je jednotlivý soubor .py\n",
    "* **package** je adresář se souborem __init__.py, více .py soubory (a třeba i podadresáři)"
   ]
  },
  {
   "cell_type": "markdown",
   "metadata": {},
   "source": [
    "#### jednotlivý soubor .py mohu:\n",
    "* provést (jako **skript**): python -m mujsoubor.py\n",
    "  * vykonají se příkazy odshora dolů\n",
    "  * definice (funkcí, tříd) se jen načtou\n",
    "    * nevykonají se (pokud je nezavoláme)\n",
    "  * na konci všechny proměnné (funkce, třídy,.. jsou taky proměnné) zmizí\n",
    "\n",
    "\n",
    "* importovat jako **modul**\n",
    "  * provede se stejně jako v předchozím případě\n",
    "    * **from modul import jmeno1, jmeno2, jmeno3 as j3**  # nevznikne proměnná modul\n",
    "    * **import modul**                                    # vznikne proměnná modul, v ní: modul.jmeno1, .."
   ]
  },
  {
   "cell_type": "code",
   "execution_count": null,
   "metadata": {
    "collapsed": false
   },
   "outputs": [],
   "source": [
    "from zkus_import import POCET, soucin\n",
    "print(POCET, soucin)"
   ]
  },
  {
   "cell_type": "code",
   "execution_count": null,
   "metadata": {
    "collapsed": false
   },
   "outputs": [],
   "source": [
    "import zkus_import\n",
    "print(zkus_import.POCET, zkus_import.soucin)"
   ]
  },
  {
   "cell_type": "code",
   "execution_count": null,
   "metadata": {
    "collapsed": false
   },
   "outputs": [],
   "source": [
    "import imp\n",
    "imp.reload(zkus_import)   # v py2 jen: reload()"
   ]
  },
  {
   "cell_type": "markdown",
   "metadata": {},
   "source": [
    "#### Nikdy (kromě ladění/odzkušování):\n",
    "from modul import *"
   ]
  },
  {
   "cell_type": "markdown",
   "metadata": {},
   "source": [
    "#### Rozpor: kód se vždy provede, ale\n",
    "* u použití jako **modul** (import) potřebujeme, aby se nic (ze vzniklého) nevolalo - zavoláme si to sami později\n",
    "* u použití jako **skript** potřebujeme, aby se něco (ze vzniklého) použilo/provedlo\n",
    "\n",
    "\n",
    "Řeší se to touto mantrou na konci kódu:"
   ]
  },
  {
   "cell_type": "code",
   "execution_count": null,
   "metadata": {
    "collapsed": true
   },
   "outputs": [],
   "source": [
    "if __name__ == '__main__':    # to není splněno při import\n",
    "    # příkazy pro skript"
   ]
  },
  {
   "cell_type": "markdown",
   "metadata": {},
   "source": [
    "Příklad:"
   ]
  },
  {
   "cell_type": "code",
   "execution_count": null,
   "metadata": {
    "collapsed": true
   },
   "outputs": [],
   "source": [
    "def vypocet():\n",
    "    # nějaké příkazy\n",
    "    pass\n",
    "\n",
    "if __name__ == '__main__':    # to není splněno při import\n",
    "    vypocet()"
   ]
  },
  {
   "cell_type": "markdown",
   "metadata": {},
   "source": [
    "* Skript: python -m vypocet\n",
    "* Import:"
   ]
  },
  {
   "cell_type": "code",
   "execution_count": null,
   "metadata": {
    "collapsed": true
   },
   "outputs": [],
   "source": [
    "from mujmodul import vypocet\n",
    "\n",
    "# cokoli dalsiho\n",
    "\n",
    "def nejaka_moje_funkce():\n",
    "    vysledek = vypocet()"
   ]
  },
  {
   "cell_type": "markdown",
   "metadata": {},
   "source": [
    "## Formální náležitosti"
   ]
  },
  {
   "cell_type": "markdown",
   "metadata": {},
   "source": [
    "* **PEP8**\n",
    "  * nazvy_promennych_modulu_a_funkci takto\n",
    "  * NazvyTrid takto\n",
    "  * NAZVY_KONSTANT (proměnných na začátku souboru/modulu, kterými lze nastavit/ovlivnit jeho činnost) takto\n",
    "  * mezery kolem operátorů: if a == 5\n",
    "\n",
    "\n",
    "* **odsazovat zásadně 4 mezerami**\n",
    "\n",
    "\n",
    "* Délku řádků omezit (80, dnes asi v praxi víc) \n",
    "  * **Pokračovací řádek**\n",
    "    * co je v závorce (výrazy v závorce) bere se vždy jako pokračování příkazu\n",
    "      * proto **co lze, to ozávorkovat**, např. dlouhý import: from mujmodul import (jmeno1,\\n jmeno2,\\n ...) \n",
    "    * v nouzi, **nelze-li ozávorkovat**: poslední znak řádku: **\\**"
   ]
  },
  {
   "cell_type": "markdown",
   "metadata": {},
   "source": [
    "* **Komentáře**:\n",
    "  * cokoli za znakem **#**\n",
    "  * **víceřádkové** (jsou to vlastně víceřádkové řetězce, které ale nepřiřadím do proměnné)."
   ]
  },
  {
   "cell_type": "code",
   "execution_count": null,
   "metadata": {
    "collapsed": true
   },
   "outputs": [],
   "source": [
    "\"\"\"\n",
    "    Nejaky dlouhy komentar\n",
    "    nebo (během ladění) odstavená/nevykonávaná část kódu\n",
    "\n",
    "    Tento typ také používej (!!) pro docstringy - na začátku modulu/funkce/třídy - co modul dělá, jak se používá\n",
    "\"\"\"\n",
    "'''\n",
    "    Toto je totéž\n",
    "'''"
   ]
  },
  {
   "cell_type": "markdown",
   "metadata": {},
   "source": [
    "#### Uspořádání modulu:\n",
    "* **první komentář** není povinný\n",
    "  * usnadňuje **spouštění v linuxu** (nemusí se volat: python ..., ale je (může být) přímo spustitelný)\n",
    "  * místo python může být python2 nebo python3\n",
    "* druhý komentář (**kódování souboru**) není povinný\n",
    "  * vždy (!) používejte utf-8 - v py3 s moderním editorem (pyCharm) ho už nepište\n",
    "  * v py2 je potřeba"
   ]
  },
  {
   "cell_type": "code",
   "execution_count": null,
   "metadata": {
    "collapsed": true
   },
   "outputs": [],
   "source": [
    "#!/usr/bin/env python\n",
    "# -*- coding: utf-8 -*-\n",
    "\n",
    "\"\"\"\n",
    "    docstring - popis, co modul dělá a jak se používá\n",
    "\"\"\"\n",
    "\n",
    "\n",
    "# Nastavující konstanty\n",
    "VYPISOVAT_PODROBNOSTI = False\n",
    "\n",
    "\n",
    "# Definice funkcí a tříd\n",
    "def funkce():\n",
    "    pass\n",
    "\n",
    "\n",
    "class Trida():\n",
    "    pass\n",
    "\n",
    "\n",
    "# Pokud se má používat i jako skript, připsat na konec toto:\n",
    "if __name__ == '__main__':\n",
    "    # příkazy\n",
    "    pass"
   ]
  }
 ],
 "metadata": {
  "kernelspec": {
   "display_name": "Python 3",
   "language": "python",
   "name": "python3"
  },
  "language_info": {
   "codemirror_mode": {
    "name": "ipython",
    "version": 3
   },
   "file_extension": ".py",
   "mimetype": "text/x-python",
   "name": "python",
   "nbconvert_exporter": "python",
   "pygments_lexer": "ipython3",
   "version": "3.6.0"
  }
 },
 "nbformat": 4,
 "nbformat_minor": 2
}
